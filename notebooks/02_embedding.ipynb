{
 "cells": [
  {
   "cell_type": "code",
   "execution_count": 6,
   "id": "8638065d",
   "metadata": {},
   "outputs": [],
   "source": [
    "import pandas as pd\n",
    "import google.generativeai as genai\n",
    "import json\n",
    "from secret_key import GOOGLE_API_KEY\n",
    "from langchain_text_splitters import RecursiveCharacterTextSplitter"
   ]
  },
  {
   "cell_type": "code",
   "execution_count": 2,
   "id": "19d12bbe",
   "metadata": {},
   "outputs": [],
   "source": [
    "genai.configure(api_key=GOOGLE_API_KEY)"
   ]
  },
  {
   "cell_type": "code",
   "execution_count": null,
   "id": "c50efa47",
   "metadata": {},
   "outputs": [],
   "source": [
    "csv_file = \"cleaned_programs.csv\"\n",
    "output_filename = \"../dataset/embedded_programs.json\""
   ]
  },
  {
   "cell_type": "code",
   "execution_count": 4,
   "id": "29fbba9b",
   "metadata": {},
   "outputs": [
    {
     "name": "stdout",
     "output_type": "stream",
     "text": [
      "Reading and chunking data from 'cleaned_programs.csv\n"
     ]
    }
   ],
   "source": [
    "print(f\"Reading and chunking data from '{csv_file}\")\n",
    "try:\n",
    "    df = pd.read_csv(csv_file)\n",
    "    full_text = df.apply(lambda row: f\"College: {row['college_name']}. Program Name: {row['program_name']}. Duration: {row['duration']}\", axis = 1).str.cat(sep='\\n')\n",
    "except FileNotFoundError:\n",
    "    print(f\"error, {csv_file} not found\")\n",
    "    full_text = None\n"
   ]
  },
  {
   "cell_type": "code",
   "execution_count": 17,
   "id": "49910914",
   "metadata": {},
   "outputs": [
    {
     "name": "stdout",
     "output_type": "stream",
     "text": [
      "Done, created 77 chunks\n"
     ]
    }
   ],
   "source": [
    "chunks = []\n",
    "if full_text:\n",
    "    text_splitter = RecursiveCharacterTextSplitter(\n",
    "        chunk_size = 1000,\n",
    "        chunk_overlap = 100,\n",
    "        separators= [\"\\n\\n\", \"\\n\", \".\", \"!\"]\n",
    "    )\n",
    "    chunks = text_splitter.split_text(full_text)\n",
    "    print(f\"Done, created {len(chunks)} chunks\")"
   ]
  },
  {
   "cell_type": "code",
   "execution_count": 18,
   "id": "6bf786f4",
   "metadata": {},
   "outputs": [
    {
     "name": "stdout",
     "output_type": "stream",
     "text": [
      "Starting Embeding process for all chunks\n",
      "Embedding done, 77 chunks embedded\n"
     ]
    }
   ],
   "source": [
    "# Generating embeddings\n",
    "\n",
    "embedded_chunks = []\n",
    "if chunks:\n",
    "    print(\"Starting Embeding process for all chunks\")\n",
    "    for i, chunk in enumerate(chunks):\n",
    "        embedded = genai.embed_content(\n",
    "            model=\"models/embedding-001\",\n",
    "            content = chunk,\n",
    "            task_type= \"SEMANTIC_SIMILARITY\"\n",
    "        )['embedding']\n",
    "\n",
    "        # Storing the chunk text and the embedding\n",
    "        embedded_chunks.append({\n",
    "            \"chunk_text\": chunk,\n",
    "            \"embedding\": embedded\n",
    "        })\n",
    "\n",
    "    print(f\"Embedding done, {len(embedded_chunks)} chunks embedded\")"
   ]
  },
  {
   "cell_type": "code",
   "execution_count": 19,
   "id": "193a8eb2",
   "metadata": {},
   "outputs": [
    {
     "name": "stdout",
     "output_type": "stream",
     "text": [
      "\n",
      " Successfully saved chunks to ../dataset/embedded_programs.json\n"
     ]
    }
   ],
   "source": [
    "if embedded_chunks:\n",
    "    with open(output_filename, 'w') as f:\n",
    "        json.dump(embedded_chunks, f, indent = 4)\n",
    "    print(f\"\\n Successfully saved chunks to {output_filename}\")\n",
    "\n",
    "else:\n",
    "    print(\"OH NO\")"
   ]
  },
  {
   "cell_type": "code",
   "execution_count": 20,
   "id": "80a3ef89",
   "metadata": {},
   "outputs": [],
   "source": [
    "csv_file = \"../dataset/colleges.csv\"\n",
    "output_filename = \"../dataset/embedded_colleges.json\""
   ]
  },
  {
   "cell_type": "code",
   "execution_count": 22,
   "id": "c9a5bbe4",
   "metadata": {},
   "outputs": [
    {
     "name": "stdout",
     "output_type": "stream",
     "text": [
      "Reading and chunking data from '../dataset/colleges.csv\n"
     ]
    }
   ],
   "source": [
    "print(f\"Reading and chunking data from '{csv_file}\")\n",
    "try:\n",
    "    df = pd.read_csv(csv_file)\n",
    "    full_text = df.apply(lambda row: f\"College: {row['name']}. University: {row['university']}.Location: {row['location']}. url: {row['url']}\", axis = 1).str.cat(sep='\\n')\n",
    "except FileNotFoundError:\n",
    "    print(f\"error, {csv_file} not found\")\n",
    "    full_text = None\n"
   ]
  },
  {
   "cell_type": "code",
   "execution_count": 23,
   "id": "9fb38f17",
   "metadata": {},
   "outputs": [
    {
     "name": "stdout",
     "output_type": "stream",
     "text": [
      "Done, created 25 chunks\n"
     ]
    }
   ],
   "source": [
    "chunks = []\n",
    "if full_text:\n",
    "    text_splitter = RecursiveCharacterTextSplitter(\n",
    "        chunk_size = 1000,\n",
    "        chunk_overlap = 100,\n",
    "        separators= [\"\\n\\n\", \"\\n\", \".\", \"!\"]\n",
    "    )\n",
    "    chunks = text_splitter.split_text(full_text)\n",
    "    print(f\"Done, created {len(chunks)} chunks\")"
   ]
  },
  {
   "cell_type": "code",
   "execution_count": 24,
   "id": "0138f6a3",
   "metadata": {},
   "outputs": [
    {
     "name": "stdout",
     "output_type": "stream",
     "text": [
      "Starting Embeding process for all chunks\n",
      "Embedding done, 25 chunks embedded\n"
     ]
    }
   ],
   "source": [
    "# Generating embeddings\n",
    "\n",
    "embedded_chunks = []\n",
    "if chunks:\n",
    "    print(\"Starting Embeding process for all chunks\")\n",
    "    for i, chunk in enumerate(chunks):\n",
    "        embedded = genai.embed_content(\n",
    "            model=\"models/embedding-001\",\n",
    "            content = chunk,\n",
    "            task_type= \"SEMANTIC_SIMILARITY\"\n",
    "        )['embedding']\n",
    "\n",
    "        # Storing the chunk text and the embedding\n",
    "        embedded_chunks.append({\n",
    "            \"chunk_text\": chunk,\n",
    "            \"embedding\": embedded\n",
    "        })\n",
    "\n",
    "    print(f\"Embedding done, {len(embedded_chunks)} chunks embedded\")"
   ]
  },
  {
   "cell_type": "code",
   "execution_count": 25,
   "id": "28950b86",
   "metadata": {},
   "outputs": [
    {
     "name": "stdout",
     "output_type": "stream",
     "text": [
      "\n",
      " Successfully saved chunks to ../dataset/embedded_colleges.json\n"
     ]
    }
   ],
   "source": [
    "if embedded_chunks:\n",
    "    with open(output_filename, 'w') as f:\n",
    "        json.dump(embedded_chunks, f, indent = 4)\n",
    "    print(f\"\\n Successfully saved chunks to {output_filename}\")\n",
    "\n",
    "else:\n",
    "    print(\"OH NO\")"
   ]
  },
  {
   "cell_type": "code",
   "execution_count": 27,
   "id": "a4a0681c",
   "metadata": {},
   "outputs": [
    {
     "data": {
      "text/plain": [
       "2"
      ]
     },
     "execution_count": 27,
     "metadata": {},
     "output_type": "execute_result"
    }
   ],
   "source": [
    "len(embedded_chunks[0])"
   ]
  }
 ],
 "metadata": {
  "kernelspec": {
   "display_name": "kathmandu-college-recommendation",
   "language": "python",
   "name": "python3"
  },
  "language_info": {
   "codemirror_mode": {
    "name": "ipython",
    "version": 3
   },
   "file_extension": ".py",
   "mimetype": "text/x-python",
   "name": "python",
   "nbconvert_exporter": "python",
   "pygments_lexer": "ipython3",
   "version": "3.13.2"
  }
 },
 "nbformat": 4,
 "nbformat_minor": 5
}
